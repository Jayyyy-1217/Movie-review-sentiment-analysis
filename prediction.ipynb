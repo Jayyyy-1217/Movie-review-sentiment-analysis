{
 "cells": [
  {
   "cell_type": "code",
   "execution_count": 2,
   "metadata": {},
   "outputs": [],
   "source": [
    "import numpy as np\n",
    "import tensorflow as tf\n",
    "from tensorflow.keras.datasets import imdb\n",
    "from tensorflow.keras.preprocessing import sequence\n",
    "from tensorflow.keras.models import load_model"
   ]
  },
  {
   "cell_type": "code",
   "execution_count": 3,
   "metadata": {},
   "outputs": [],
   "source": [
    "word_index=imdb.get_word_index()\n",
    "reversed={value:key for key,value in word_index.items()}"
   ]
  },
  {
   "cell_type": "code",
   "execution_count": 4,
   "metadata": {},
   "outputs": [
    {
     "name": "stderr",
     "output_type": "stream",
     "text": [
      "WARNING:absl:Compiled the loaded model, but the compiled metrics have yet to be built. `model.compile_metrics` will be empty until you train or evaluate the model.\n"
     ]
    }
   ],
   "source": [
    "model=load_model('simplernn.h5')"
   ]
  },
  {
   "cell_type": "code",
   "execution_count": 5,
   "metadata": {},
   "outputs": [
    {
     "data": {
      "text/html": [
       "<pre style=\"white-space:pre;overflow-x:auto;line-height:normal;font-family:Menlo,'DejaVu Sans Mono',consolas,'Courier New',monospace\"><span style=\"font-weight: bold\">Model: \"sequential\"</span>\n",
       "</pre>\n"
      ],
      "text/plain": [
       "\u001b[1mModel: \"sequential\"\u001b[0m\n"
      ]
     },
     "metadata": {},
     "output_type": "display_data"
    },
    {
     "data": {
      "text/html": [
       "<pre style=\"white-space:pre;overflow-x:auto;line-height:normal;font-family:Menlo,'DejaVu Sans Mono',consolas,'Courier New',monospace\">┏━━━━━━━━━━━━━━━━━━━━━━━━━━━━━━━━━┳━━━━━━━━━━━━━━━━━━━━━━━━┳━━━━━━━━━━━━━━━┓\n",
       "┃<span style=\"font-weight: bold\"> Layer (type)                    </span>┃<span style=\"font-weight: bold\"> Output Shape           </span>┃<span style=\"font-weight: bold\">       Param # </span>┃\n",
       "┡━━━━━━━━━━━━━━━━━━━━━━━━━━━━━━━━━╇━━━━━━━━━━━━━━━━━━━━━━━━╇━━━━━━━━━━━━━━━┩\n",
       "│ embedding (<span style=\"color: #0087ff; text-decoration-color: #0087ff\">Embedding</span>)           │ (<span style=\"color: #00d7ff; text-decoration-color: #00d7ff\">None</span>, <span style=\"color: #00af00; text-decoration-color: #00af00\">500</span>, <span style=\"color: #00af00; text-decoration-color: #00af00\">128</span>)       │     <span style=\"color: #00af00; text-decoration-color: #00af00\">1,280,000</span> │\n",
       "├─────────────────────────────────┼────────────────────────┼───────────────┤\n",
       "│ simple_rnn (<span style=\"color: #0087ff; text-decoration-color: #0087ff\">SimpleRNN</span>)          │ (<span style=\"color: #00d7ff; text-decoration-color: #00d7ff\">None</span>, <span style=\"color: #00af00; text-decoration-color: #00af00\">128</span>)            │        <span style=\"color: #00af00; text-decoration-color: #00af00\">32,896</span> │\n",
       "├─────────────────────────────────┼────────────────────────┼───────────────┤\n",
       "│ dense (<span style=\"color: #0087ff; text-decoration-color: #0087ff\">Dense</span>)                   │ (<span style=\"color: #00d7ff; text-decoration-color: #00d7ff\">None</span>, <span style=\"color: #00af00; text-decoration-color: #00af00\">1</span>)              │           <span style=\"color: #00af00; text-decoration-color: #00af00\">129</span> │\n",
       "└─────────────────────────────────┴────────────────────────┴───────────────┘\n",
       "</pre>\n"
      ],
      "text/plain": [
       "┏━━━━━━━━━━━━━━━━━━━━━━━━━━━━━━━━━┳━━━━━━━━━━━━━━━━━━━━━━━━┳━━━━━━━━━━━━━━━┓\n",
       "┃\u001b[1m \u001b[0m\u001b[1mLayer (type)                   \u001b[0m\u001b[1m \u001b[0m┃\u001b[1m \u001b[0m\u001b[1mOutput Shape          \u001b[0m\u001b[1m \u001b[0m┃\u001b[1m \u001b[0m\u001b[1m      Param #\u001b[0m\u001b[1m \u001b[0m┃\n",
       "┡━━━━━━━━━━━━━━━━━━━━━━━━━━━━━━━━━╇━━━━━━━━━━━━━━━━━━━━━━━━╇━━━━━━━━━━━━━━━┩\n",
       "│ embedding (\u001b[38;5;33mEmbedding\u001b[0m)           │ (\u001b[38;5;45mNone\u001b[0m, \u001b[38;5;34m500\u001b[0m, \u001b[38;5;34m128\u001b[0m)       │     \u001b[38;5;34m1,280,000\u001b[0m │\n",
       "├─────────────────────────────────┼────────────────────────┼───────────────┤\n",
       "│ simple_rnn (\u001b[38;5;33mSimpleRNN\u001b[0m)          │ (\u001b[38;5;45mNone\u001b[0m, \u001b[38;5;34m128\u001b[0m)            │        \u001b[38;5;34m32,896\u001b[0m │\n",
       "├─────────────────────────────────┼────────────────────────┼───────────────┤\n",
       "│ dense (\u001b[38;5;33mDense\u001b[0m)                   │ (\u001b[38;5;45mNone\u001b[0m, \u001b[38;5;34m1\u001b[0m)              │           \u001b[38;5;34m129\u001b[0m │\n",
       "└─────────────────────────────────┴────────────────────────┴───────────────┘\n"
      ]
     },
     "metadata": {},
     "output_type": "display_data"
    },
    {
     "data": {
      "text/html": [
       "<pre style=\"white-space:pre;overflow-x:auto;line-height:normal;font-family:Menlo,'DejaVu Sans Mono',consolas,'Courier New',monospace\"><span style=\"font-weight: bold\"> Total params: </span><span style=\"color: #00af00; text-decoration-color: #00af00\">1,313,027</span> (5.01 MB)\n",
       "</pre>\n"
      ],
      "text/plain": [
       "\u001b[1m Total params: \u001b[0m\u001b[38;5;34m1,313,027\u001b[0m (5.01 MB)\n"
      ]
     },
     "metadata": {},
     "output_type": "display_data"
    },
    {
     "data": {
      "text/html": [
       "<pre style=\"white-space:pre;overflow-x:auto;line-height:normal;font-family:Menlo,'DejaVu Sans Mono',consolas,'Courier New',monospace\"><span style=\"font-weight: bold\"> Trainable params: </span><span style=\"color: #00af00; text-decoration-color: #00af00\">1,313,025</span> (5.01 MB)\n",
       "</pre>\n"
      ],
      "text/plain": [
       "\u001b[1m Trainable params: \u001b[0m\u001b[38;5;34m1,313,025\u001b[0m (5.01 MB)\n"
      ]
     },
     "metadata": {},
     "output_type": "display_data"
    },
    {
     "data": {
      "text/html": [
       "<pre style=\"white-space:pre;overflow-x:auto;line-height:normal;font-family:Menlo,'DejaVu Sans Mono',consolas,'Courier New',monospace\"><span style=\"font-weight: bold\"> Non-trainable params: </span><span style=\"color: #00af00; text-decoration-color: #00af00\">0</span> (0.00 B)\n",
       "</pre>\n"
      ],
      "text/plain": [
       "\u001b[1m Non-trainable params: \u001b[0m\u001b[38;5;34m0\u001b[0m (0.00 B)\n"
      ]
     },
     "metadata": {},
     "output_type": "display_data"
    },
    {
     "data": {
      "text/html": [
       "<pre style=\"white-space:pre;overflow-x:auto;line-height:normal;font-family:Menlo,'DejaVu Sans Mono',consolas,'Courier New',monospace\"><span style=\"font-weight: bold\"> Optimizer params: </span><span style=\"color: #00af00; text-decoration-color: #00af00\">2</span> (12.00 B)\n",
       "</pre>\n"
      ],
      "text/plain": [
       "\u001b[1m Optimizer params: \u001b[0m\u001b[38;5;34m2\u001b[0m (12.00 B)\n"
      ]
     },
     "metadata": {},
     "output_type": "display_data"
    }
   ],
   "source": [
    "model.summary()"
   ]
  },
  {
   "cell_type": "code",
   "execution_count": 7,
   "metadata": {},
   "outputs": [
    {
     "data": {
      "text/plain": [
       "[array([[-0.13086954,  0.04758517, -0.06140796, ...,  0.1567261 ,\n",
       "         -0.08816805, -0.12020653],\n",
       "        [ 0.00564522,  0.0146303 ,  0.02259875, ..., -0.04853234,\n",
       "         -0.02379966,  0.02170662],\n",
       "        [-0.06495816,  0.03591855, -0.09222426, ...,  0.06846419,\n",
       "         -0.0129223 , -0.0963674 ],\n",
       "        ...,\n",
       "        [-0.15905333, -0.15849815,  0.17539886, ...,  0.14757471,\n",
       "         -0.09046181,  0.11256604],\n",
       "        [ 0.02988973,  0.06561435, -0.04789969, ..., -0.00087735,\n",
       "          0.01804201,  0.00797782],\n",
       "        [-0.16089582, -0.10781092,  0.14556707, ...,  0.00944213,\n",
       "         -0.14459811,  0.19963828]], dtype=float32),\n",
       " array([[ 0.10831275,  0.05289941, -0.13682626, ...,  0.15056588,\n",
       "          0.25198272,  0.02528124],\n",
       "        [ 0.19449909, -0.00280634, -0.0440918 , ..., -0.02312068,\n",
       "         -0.10816509, -0.11379842],\n",
       "        [-0.07116793, -0.01126692, -0.02060571, ..., -0.10964511,\n",
       "          0.11065605, -0.11014015],\n",
       "        ...,\n",
       "        [ 0.09598994, -0.05813767,  0.01243269, ...,  0.02224419,\n",
       "         -0.10242531, -0.01327935],\n",
       "        [-0.00898326,  0.03950208,  0.02567789, ...,  0.06808388,\n",
       "          0.03453337, -0.09321288],\n",
       "        [-0.10234465,  0.02207074,  0.15775649, ..., -0.14966589,\n",
       "         -0.0196799 ,  0.14006   ]], dtype=float32),\n",
       " array([[ 0.02924261,  0.13561997, -0.06884486, ...,  0.12915272,\n",
       "          0.20682856,  0.05102457],\n",
       "        [-0.04778514,  0.03976328,  0.06187812, ...,  0.17797787,\n",
       "          0.11901879,  0.01882633],\n",
       "        [-0.07758275,  0.02504139, -0.09885241, ..., -0.14274332,\n",
       "         -0.08010252,  0.04373367],\n",
       "        ...,\n",
       "        [-0.10789562,  0.13839237,  0.24281049, ...,  0.12289458,\n",
       "         -0.03961963, -0.0228621 ],\n",
       "        [ 0.10401999, -0.04646672, -0.05128077, ...,  0.225568  ,\n",
       "          0.10362432, -0.03387151],\n",
       "        [ 0.03352994, -0.11934278, -0.14442693, ..., -0.02316107,\n",
       "         -0.14512803,  0.07607424]], dtype=float32),\n",
       " array([ 0.01853375,  0.02987077,  0.00172145,  0.03546059,  0.01157177,\n",
       "        -0.04417269,  0.02019583, -0.03979335, -0.00997239, -0.04185863,\n",
       "         0.03493145, -0.03685838, -0.02606681, -0.02424124, -0.01213328,\n",
       "         0.05935168, -0.05082667,  0.01783925, -0.0369392 , -0.03098243,\n",
       "        -0.04365113, -0.01816848, -0.02816445, -0.05180821, -0.02826904,\n",
       "         0.02683968, -0.03556093,  0.02878223, -0.01861215, -0.03067693,\n",
       "        -0.02767858, -0.03328361, -0.00748623,  0.00215687, -0.0659845 ,\n",
       "        -0.01953672,  0.02862596, -0.01799066, -0.04739841, -0.03252347,\n",
       "         0.01777135, -0.03569725,  0.00227897, -0.02300104, -0.04060362,\n",
       "        -0.01512143, -0.04459125,  0.05260856, -0.01166341,  0.03391274,\n",
       "        -0.02413785,  0.02348362, -0.0033053 , -0.00876317, -0.00376399,\n",
       "         0.03940498, -0.00233891, -0.05992959, -0.01716876, -0.00087398,\n",
       "        -0.01298193,  0.03737423,  0.02335949, -0.03610384, -0.06413876,\n",
       "         0.00538056, -0.02686184,  0.04369874,  0.00960072,  0.00723872,\n",
       "        -0.02623201,  0.02807285, -0.04109029, -0.01414682, -0.02754335,\n",
       "         0.01666865,  0.01003192,  0.01685767, -0.0203407 ,  0.06133766,\n",
       "         0.01699291, -0.01548047,  0.02496133, -0.01462382,  0.0100492 ,\n",
       "         0.01196452, -0.04549183,  0.01164001, -0.00473748,  0.04096066,\n",
       "         0.00131992, -0.02467575, -0.03247674, -0.00637089, -0.02875783,\n",
       "        -0.03372886, -0.0597625 , -0.03514111,  0.02872957, -0.02803042,\n",
       "         0.00665023,  0.03932666,  0.01385466, -0.00399818,  0.03337584,\n",
       "         0.04141319, -0.02508671,  0.00053684,  0.00725122,  0.02023388,\n",
       "        -0.02617816,  0.01090611, -0.02545541, -0.02490396, -0.01825923,\n",
       "         0.00872777, -0.0212663 ,  0.02313285, -0.00567169,  0.00083576,\n",
       "        -0.0120649 , -0.01439033,  0.00389346, -0.04032945,  0.02782306,\n",
       "        -0.04241626,  0.03770875, -0.03151086], dtype=float32),\n",
       " array([[-0.01849356],\n",
       "        [-0.1008231 ],\n",
       "        [ 0.23740244],\n",
       "        [-0.20162362],\n",
       "        [ 0.0593788 ],\n",
       "        [ 0.03864698],\n",
       "        [-0.10509037],\n",
       "        [ 0.19462325],\n",
       "        [ 0.28324866],\n",
       "        [ 0.11887638],\n",
       "        [-0.10731246],\n",
       "        [ 0.04182209],\n",
       "        [ 0.05843178],\n",
       "        [ 0.05207523],\n",
       "        [-0.03795473],\n",
       "        [-0.13418537],\n",
       "        [-0.08798754],\n",
       "        [-0.10623494],\n",
       "        [ 0.16354409],\n",
       "        [-0.03710221],\n",
       "        [ 0.12013403],\n",
       "        [ 0.65086323],\n",
       "        [ 0.17300661],\n",
       "        [ 0.05853979],\n",
       "        [ 0.23209673],\n",
       "        [-0.08493454],\n",
       "        [ 0.11373933],\n",
       "        [ 0.11444475],\n",
       "        [-0.10027958],\n",
       "        [ 0.37352875],\n",
       "        [ 0.24715692],\n",
       "        [ 0.09395596],\n",
       "        [-0.07110405],\n",
       "        [-0.04744783],\n",
       "        [ 0.19160868],\n",
       "        [ 0.14224397],\n",
       "        [ 0.04286097],\n",
       "        [ 0.23557343],\n",
       "        [ 0.07296502],\n",
       "        [ 0.15236957],\n",
       "        [ 0.12523083],\n",
       "        [ 0.12198219],\n",
       "        [ 0.1956938 ],\n",
       "        [ 0.2316452 ],\n",
       "        [-0.00492582],\n",
       "        [ 0.2503181 ],\n",
       "        [ 0.23266174],\n",
       "        [-0.19267708],\n",
       "        [ 0.65675724],\n",
       "        [ 0.00297568],\n",
       "        [-0.12318103],\n",
       "        [-0.10679302],\n",
       "        [-0.04911837],\n",
       "        [ 0.10782127],\n",
       "        [ 0.2668416 ],\n",
       "        [-0.03121336],\n",
       "        [ 0.09022328],\n",
       "        [-0.05658002],\n",
       "        [ 0.01558418],\n",
       "        [ 0.28053105],\n",
       "        [ 0.22561982],\n",
       "        [-0.04853634],\n",
       "        [-0.19884078],\n",
       "        [-0.08748038],\n",
       "        [-0.0007975 ],\n",
       "        [ 0.12618041],\n",
       "        [ 0.21769787],\n",
       "        [-0.17536342],\n",
       "        [ 0.29184482],\n",
       "        [ 0.25196442],\n",
       "        [ 0.05643332],\n",
       "        [ 0.08698532],\n",
       "        [ 0.6543625 ],\n",
       "        [ 0.19396837],\n",
       "        [-0.22997542],\n",
       "        [ 0.29313126],\n",
       "        [ 0.06608039],\n",
       "        [-0.06429911],\n",
       "        [ 0.18790916],\n",
       "        [-0.16683188],\n",
       "        [-0.19252902],\n",
       "        [-0.18637261],\n",
       "        [-0.02416552],\n",
       "        [-0.11914347],\n",
       "        [ 0.2323038 ],\n",
       "        [ 0.29317153],\n",
       "        [ 0.2449024 ],\n",
       "        [-0.02864644],\n",
       "        [-0.08019482],\n",
       "        [ 0.16505413],\n",
       "        [ 0.17402636],\n",
       "        [ 0.26198986],\n",
       "        [ 0.03505594],\n",
       "        [ 0.43464378],\n",
       "        [ 0.1700467 ],\n",
       "        [-0.01320636],\n",
       "        [-0.06949659],\n",
       "        [-0.10893483],\n",
       "        [-0.14226748],\n",
       "        [-0.11104508],\n",
       "        [ 0.16153063],\n",
       "        [-0.10124461],\n",
       "        [ 0.0509559 ],\n",
       "        [ 0.25125027],\n",
       "        [ 0.11512142],\n",
       "        [ 0.01619494],\n",
       "        [ 0.24616851],\n",
       "        [ 0.24192557],\n",
       "        [ 0.02061141],\n",
       "        [ 0.13827379],\n",
       "        [ 0.14280444],\n",
       "        [-0.03719364],\n",
       "        [ 0.19832246],\n",
       "        [ 0.09057932],\n",
       "        [ 0.10437372],\n",
       "        [ 0.04686656],\n",
       "        [-0.07327598],\n",
       "        [-0.12315784],\n",
       "        [ 0.13606612],\n",
       "        [ 0.16461103],\n",
       "        [-0.07188758],\n",
       "        [-0.16730712],\n",
       "        [-0.05801263],\n",
       "        [ 0.5093758 ],\n",
       "        [-0.17292361],\n",
       "        [ 0.08443738],\n",
       "        [-0.16122948],\n",
       "        [-0.01907626]], dtype=float32),\n",
       " array([1.0835907], dtype=float32)]"
      ]
     },
     "execution_count": 7,
     "metadata": {},
     "output_type": "execute_result"
    }
   ],
   "source": [
    "model.get_weights()"
   ]
  },
  {
   "cell_type": "code",
   "execution_count": 10,
   "metadata": {},
   "outputs": [],
   "source": [
    "def decode(encode_review):\n",
    "    return ' '.join([reversed.get(i-3,'?') for i in encode_review])\n",
    "def preprocess(text):\n",
    "    words=text.lower().split()\n",
    "    encode_review=[word_index.get(word,2)+3 for word in words]\n",
    "    padded_review=sequence.pad_sequences([encode_review],maxlen=500)\n",
    "    return padded_review"
   ]
  },
  {
   "cell_type": "code",
   "execution_count": 11,
   "metadata": {},
   "outputs": [],
   "source": [
    "def predict_sentiment(review):\n",
    "    preprocessed_text=preprocess(review)\n",
    "    prediction=model.predict(preprocessed_text)\n",
    "    sentiment='Positive' if prediction[0][0]>0.5 else 'Negative'\n",
    "    return sentiment,prediction[0][0]"
   ]
  },
  {
   "cell_type": "code",
   "execution_count": 12,
   "metadata": {},
   "outputs": [],
   "source": [
    "review=\"The movie was great! The acting was good and the plot was thrilling\""
   ]
  },
  {
   "cell_type": "code",
   "execution_count": 13,
   "metadata": {},
   "outputs": [
    {
     "name": "stdout",
     "output_type": "stream",
     "text": [
      "\u001b[1m1/1\u001b[0m \u001b[32m━━━━━━━━━━━━━━━━━━━━\u001b[0m\u001b[37m\u001b[0m \u001b[1m0s\u001b[0m 286ms/step\n"
     ]
    }
   ],
   "source": [
    "sentiment,score=predict_sentiment(review)"
   ]
  },
  {
   "cell_type": "code",
   "execution_count": 14,
   "metadata": {},
   "outputs": [
    {
     "name": "stdout",
     "output_type": "stream",
     "text": [
      "Positive\n",
      "0.7424219\n"
     ]
    }
   ],
   "source": [
    "print(sentiment)\n",
    "print(score)"
   ]
  },
  {
   "cell_type": "code",
   "execution_count": null,
   "metadata": {},
   "outputs": [],
   "source": []
  },
  {
   "cell_type": "code",
   "execution_count": null,
   "metadata": {},
   "outputs": [],
   "source": []
  }
 ],
 "metadata": {
  "kernelspec": {
   "display_name": "Python 3",
   "language": "python",
   "name": "python3"
  },
  "language_info": {
   "codemirror_mode": {
    "name": "ipython",
    "version": 3
   },
   "file_extension": ".py",
   "mimetype": "text/x-python",
   "name": "python",
   "nbconvert_exporter": "python",
   "pygments_lexer": "ipython3",
   "version": "3.12.0"
  }
 },
 "nbformat": 4,
 "nbformat_minor": 2
}
